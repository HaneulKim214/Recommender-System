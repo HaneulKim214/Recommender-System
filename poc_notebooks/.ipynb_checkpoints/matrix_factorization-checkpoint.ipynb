{
 "cells": [
  {
   "cell_type": "code",
   "execution_count": 1,
   "id": "f13cb8dc",
   "metadata": {},
   "outputs": [],
   "source": [
    "from datetime import datetime, timedelta\n",
    "from timeit import default_timer as timer\n",
    "\n",
    "import numpy as np\n",
    "import pandas as pd"
   ]
  },
  {
   "cell_type": "code",
   "execution_count": 2,
   "id": "56a50667",
   "metadata": {},
   "outputs": [],
   "source": [
    "def replace_zero_to_nan(m):\n",
    "    m = m.astype(float)\n",
    "    m[m==0] = np.nan\n",
    "    return m\n",
    "\n",
    "def calc_rmse_rating_matrix(P, Q, R):\n",
    "    R_pred = np.dot(P, Q.T)\n",
    "    mse = np.nanmean((R - R_pred)**2)\n",
    "    rmse = np.sqrt(mse)\n",
    "    return rmse"
   ]
  },
  {
   "cell_type": "code",
   "execution_count": 3,
   "id": "ae0be885",
   "metadata": {},
   "outputs": [],
   "source": [
    "df = pd.DataFrame({\"user\":np.array([[u]*5 for u in [0,1,2,3]]).reshape(-1), \n",
    "                   'item':[0,1,2,3,4]*4,\n",
    "                   'ratings':[2,1,5,4,5, \n",
    "                              5, 4, 1, np.nan, 2,\n",
    "                              1,1,5,2,2,\n",
    "                              1, np.nan, np.nan, 4, 3]\n",
    "                  })\n",
    "R = df.pivot(index='item', columns='user', values='ratings').values"
   ]
  },
  {
   "cell_type": "markdown",
   "id": "cabaff00-1fd4-4297-8e07-0662b259ca7d",
   "metadata": {},
   "source": [
    "## Rating df version"
   ]
  },
  {
   "cell_type": "code",
   "execution_count": null,
   "id": "80c509be",
   "metadata": {},
   "outputs": [],
   "source": [
    "\"\"\"\n",
    "1. hm.... how to vectorizer above np.dot(P, Q.T)?\n",
    "2. how to deal with no rating rows?\n",
    "\n",
    "https://towardsdatascience.com/heres-the-most-efficient-way-to-iterate-through-your-pandas-dataframe-4dad88ac92ee\n",
    "\"\"\"\n"
   ]
  },
  {
   "cell_type": "code",
   "execution_count": 51,
   "id": "ec47266c-1c69-4951-9a4f-e7c14f217560",
   "metadata": {},
   "outputs": [],
   "source": [
    "df = pd.read_parquet(\"../datasets/ml-25m/ratings_sampled.parquet\").sample(10_000)\n",
    "user_col, item_col, rating_col = \"userId\", \"movieId\", \"rating\""
   ]
  },
  {
   "cell_type": "code",
   "execution_count": 52,
   "id": "debb43df-864c-44b1-babd-d5bcfe06c645",
   "metadata": {},
   "outputs": [
    {
     "name": "stdout",
     "output_type": "stream",
     "text": [
      "<class 'pandas.core.frame.DataFrame'>\n",
      "Int64Index: 10000 entries, 15287779 to 447995\n",
      "Data columns (total 4 columns):\n",
      " #   Column     Non-Null Count  Dtype  \n",
      "---  ------     --------------  -----  \n",
      " 0   userId     10000 non-null  int64  \n",
      " 1   movieId    10000 non-null  int64  \n",
      " 2   rating     10000 non-null  float64\n",
      " 3   timestamp  10000 non-null  int64  \n",
      "dtypes: float64(1), int64(3)\n",
      "memory usage: 390.6 KB\n"
     ]
    }
   ],
   "source": [
    "\"\"\"\n",
    "hm... would there be a way to automatically figure out which columns are user,item,rating? \n",
    "\"\"\"\n",
    "df.info()"
   ]
  },
  {
   "cell_type": "code",
   "execution_count": 53,
   "id": "eca00c0d-53b1-4cd6-9058-b39025cab3c1",
   "metadata": {},
   "outputs": [
    {
     "data": {
      "text/html": [
       "<div>\n",
       "<style scoped>\n",
       "    .dataframe tbody tr th:only-of-type {\n",
       "        vertical-align: middle;\n",
       "    }\n",
       "\n",
       "    .dataframe tbody tr th {\n",
       "        vertical-align: top;\n",
       "    }\n",
       "\n",
       "    .dataframe thead th {\n",
       "        text-align: right;\n",
       "    }\n",
       "</style>\n",
       "<table border=\"1\" class=\"dataframe\">\n",
       "  <thead>\n",
       "    <tr style=\"text-align: right;\">\n",
       "      <th></th>\n",
       "      <th>userId</th>\n",
       "      <th>movieId</th>\n",
       "      <th>rating</th>\n",
       "      <th>timestamp</th>\n",
       "    </tr>\n",
       "    <tr>\n",
       "      <th>index</th>\n",
       "      <th></th>\n",
       "      <th></th>\n",
       "      <th></th>\n",
       "      <th></th>\n",
       "    </tr>\n",
       "  </thead>\n",
       "  <tbody>\n",
       "    <tr>\n",
       "      <th>15287779</th>\n",
       "      <td>99053</td>\n",
       "      <td>56174</td>\n",
       "      <td>3.0</td>\n",
       "      <td>1571105611</td>\n",
       "    </tr>\n",
       "    <tr>\n",
       "      <th>7110528</th>\n",
       "      <td>46101</td>\n",
       "      <td>141771</td>\n",
       "      <td>1.0</td>\n",
       "      <td>1441356785</td>\n",
       "    </tr>\n",
       "    <tr>\n",
       "      <th>4094967</th>\n",
       "      <td>26943</td>\n",
       "      <td>1092</td>\n",
       "      <td>3.0</td>\n",
       "      <td>1175334092</td>\n",
       "    </tr>\n",
       "    <tr>\n",
       "      <th>20903076</th>\n",
       "      <td>135919</td>\n",
       "      <td>99007</td>\n",
       "      <td>2.5</td>\n",
       "      <td>1529077414</td>\n",
       "    </tr>\n",
       "    <tr>\n",
       "      <th>2506788</th>\n",
       "      <td>16709</td>\n",
       "      <td>33493</td>\n",
       "      <td>4.0</td>\n",
       "      <td>1175630515</td>\n",
       "    </tr>\n",
       "  </tbody>\n",
       "</table>\n",
       "</div>"
      ],
      "text/plain": [
       "          userId  movieId  rating   timestamp\n",
       "index                                        \n",
       "15287779   99053    56174     3.0  1571105611\n",
       "7110528    46101   141771     1.0  1441356785\n",
       "4094967    26943     1092     3.0  1175334092\n",
       "20903076  135919    99007     2.5  1529077414\n",
       "2506788    16709    33493     4.0  1175630515"
      ]
     },
     "execution_count": 53,
     "metadata": {},
     "output_type": "execute_result"
    }
   ],
   "source": [
    "df.head()"
   ]
  },
  {
   "cell_type": "code",
   "execution_count": 46,
   "id": "0d8b7894-10c2-432f-ab60-8485fa79d1a8",
   "metadata": {},
   "outputs": [
    {
     "name": "stdout",
     "output_type": "stream",
     "text": [
      "took = 0.013s\n"
     ]
    }
   ],
   "source": [
    "\"\"\"\n",
    "re-index user/item id\n",
    "- so that it ranges from [0, n_user-1] -> for look-up of embedding vector.\n",
    "- introductes extra bottleneck.\n",
    "\n",
    "hm... Maybe there is vectorized way of doing this?\n",
    "\"\"\"\n",
    "\n",
    "start = timer()\n",
    "\n",
    "userid2idx = {u_id:i for i, u_id in enumerate(df[user_col].unique())}\n",
    "itemid2idx = {u_id:i for i, u_id in enumerate(df[item_col].unique())}\n",
    "\n",
    "df[user_col] = df[user_col].apply(lambda x: userid2idx[x])\n",
    "df[item_col] = df[item_col].apply(lambda x: itemid2idx[x])\n",
    "end = timer()\n",
    "print(f\"took = {round(end - start, 3)}s\")"
   ]
  },
  {
   "cell_type": "code",
   "execution_count": 47,
   "id": "54a24c89-b9cb-4e93-8d2a-2736ced7dc32",
   "metadata": {},
   "outputs": [],
   "source": [
    "def calc_mse(y: pd.Series, pred_y: pd.Series) -> float:\n",
    "    return np.mean((y - pred_y)**2)\n",
    "def calc_rmse(y: pd.Series, pred_y: pd.Series) -> float:\n",
    "    return np.sqrt(calc_mse(y, pred_y))"
   ]
  },
  {
   "cell_type": "code",
   "execution_count": 48,
   "id": "c63aa3e4-423b-4e41-b205-feb8987393b5",
   "metadata": {},
   "outputs": [
    {
     "name": "stdout",
     "output_type": "stream",
     "text": [
      "took = 1.332s\n"
     ]
    }
   ],
   "source": [
    "# %%timeit\n",
    "verbose = False\n",
    "K = 3\n",
    "lr = 0.01\n",
    "_lambda = 0.01\n",
    "epoch = 10\n",
    "\n",
    "start = timer()\n",
    "n_users = df[user_col].nunique()\n",
    "n_items = df[item_col].nunique()\n",
    "if verbose:\n",
    "    print(f\"n_users = {n_users}\")\n",
    "    print(f\"n_items = {n_items}\")\n",
    "\n",
    "# intializing embedding vector from normal distribution with mean=0, std_dev=1/k\n",
    "P = np.random.normal(loc=0, scale=1.0/K, size=(n_users, K))\n",
    "Q = np.random.normal(loc=0, scale=1.0/K, size=(n_items, K))\n",
    "\n",
    "for i_epoch in range(epoch):\n",
    "    for row in df.itertuples():\n",
    "        user_id = getattr(row, user_col)\n",
    "        item_id = getattr(row, item_col)\n",
    "        r_ui = getattr(row, rating_col)\n",
    "        pred_r_ui = np.dot(P[user_id], \n",
    "                           Q[item_id])\n",
    "        e_ui = r_ui - pred_r_ui\n",
    "\n",
    "        P[user_id] = P[user_id] + lr * (e_ui*Q[item_id] - _lambda*P[user_id])\n",
    "        Q[item_id] = Q[item_id] + lr * (e_ui*P[user_id] - _lambda*Q[item_id])\n",
    "    \n",
    "    if verbose:\n",
    "        if i_epoch % 10 == 0:\n",
    "            user_emb = P[df[user_col]]\n",
    "            item_emb = Q[df[item_col]]\n",
    "            df['pred_rating'] = np.sum(user_emb * item_emb, axis=1)\n",
    "            print(f\"{i_epoch} : RMSE =  \", np.round(calc_rmse(df[\"rating\"], df[\"pred_rating\"]), 4))\n",
    "\n",
    "            \n",
    "user_emb = P[df[user_col]]\n",
    "item_emb = Q[df[item_col]]\n",
    "df['pred_rating'] = np.sum(user_emb * item_emb, axis=1)\n",
    "\n",
    "end = timer()\n",
    "print(f\"took = {round(end - start, 3)}s\")"
   ]
  },
  {
   "cell_type": "code",
   "execution_count": 49,
   "id": "648a92ae-54c5-4e5f-a481-9422850c6361",
   "metadata": {},
   "outputs": [
    {
     "name": "stdout",
     "output_type": "stream",
     "text": [
      "RMSE = 3.297478631015532\n"
     ]
    }
   ],
   "source": [
    "print(f\"RMSE = {calc_rmse(df['rating'], df['pred_rating'])}\")"
   ]
  },
  {
   "cell_type": "code",
   "execution_count": null,
   "id": "91c4510b-d4a2-483c-8558-0b4c24bf7ff5",
   "metadata": {},
   "outputs": [],
   "source": [
    "\"\"\"\n",
    "hm... sgd method updates user/item embedding vector each iteration. so prediction on one user\n",
    "will change each iteration that consists of that user. -> making prediction before hand on all\n",
    "interaction by vectorization is useless... unless all pairs have unique user and unique item.\n",
    "\"\"\"\n",
    "user_emb = P[df[user_col]]\n",
    "item_emb = Q[df[item_col]]\n",
    "\n",
    "pred_rating = np.sum(user_emb * item_emb, axis=1)"
   ]
  },
  {
   "cell_type": "markdown",
   "id": "14f9a742-646c-4cf3-bac0-cd6de6c342a1",
   "metadata": {},
   "source": [
    "## Rating matrix version"
   ]
  },
  {
   "cell_type": "code",
   "execution_count": 40,
   "id": "6344d96e-6409-4c92-89bd-aca68f79e675",
   "metadata": {},
   "outputs": [],
   "source": [
    "df = pd.read_parquet(\"../datasets/ml-25m/ratings_sampled.parquet\").sample(10_000)\n",
    "user_col, item_col, rating_col = \"userId\", \"movieId\", \"rating\"\n",
    "R = df.pivot(index=item_col, columns=user_col, values=rating_col).values"
   ]
  },
  {
   "cell_type": "code",
   "execution_count": 41,
   "id": "5445f3d1-f6b5-4c06-b13c-f71f8eaef03b",
   "metadata": {},
   "outputs": [
    {
     "data": {
      "text/plain": [
       "(3673, 9022)"
      ]
     },
     "execution_count": 41,
     "metadata": {},
     "output_type": "execute_result"
    }
   ],
   "source": [
    "R.shape"
   ]
  },
  {
   "cell_type": "code",
   "execution_count": 42,
   "id": "21badcf7-992f-4b0f-825d-5caf92bf4dab",
   "metadata": {},
   "outputs": [
    {
     "name": "stdout",
     "output_type": "stream",
     "text": [
      "RMSE =   3.3867\n",
      "took = 478.787s\n"
     ]
    }
   ],
   "source": [
    "start = timer()\n",
    "verbose = False\n",
    "n_epoch = 10\n",
    "n_users, n_items = R.shape\n",
    "K=3\n",
    "P = np.random.normal(loc=0, scale=1.0/K, size=(n_users, K))\n",
    "Q = np.random.normal(loc=0, scale=1.0/K, size=(n_items, K))\n",
    "\n",
    "for n_step in range(1, n_epoch):\n",
    "    for i in range(n_users):\n",
    "        for j in range(n_items):\n",
    "            r_ui = R[i, j]\n",
    "            if np.isnan(r_ui): # skip empty elements\n",
    "                continue\n",
    "            pred_r_ui = np.dot(P[i, :], Q[j, :])\n",
    "            e_ui = r_ui - pred_r_ui\n",
    "            P[i, :] = P[i, :] + lr * (e_ui * Q[j, :] - _lambda * P[i,:]) \n",
    "            Q[j, :] = Q[j, :] + lr * (e_ui * P[i, :] - _lambda * Q[j, :])\n",
    "    if verbose:\n",
    "        if n_step % 10 == 0:\n",
    "            print(f\"{n_step} : RMSE =  \", np.round(calc_rmse(P, Q, R), 4))\n",
    "            \n",
    "print(f\"RMSE =  \", np.round(calc_rmse_rating_matrix(P, Q, R), 4))    \n",
    "end = timer()\n",
    "print(f\"took = {round(end - start, 3)}s\")"
   ]
  },
  {
   "cell_type": "code",
   "execution_count": null,
   "id": "f87685d0-6f95-4fe9-a2d7-c8403525c203",
   "metadata": {},
   "outputs": [],
   "source": [
    "# embedding dimension\n",
    "K = 3\n",
    "\n",
    "# train test split, train takes 70% elements at random, other 6 become np.nan\n",
    "train_ratio = 0.7\n",
    "\n",
    "# Note since this is not deterministic train set may not consist exactly 70% of the data.\n",
    "bool_matrix = (np.random.rand(n_user, n_item) < train_ratio)\n",
    "train_R = replace_zero_to_nan(R * bool_matrix)\n",
    "test_R = replace_zero_to_nan(R * ~bool_matrix)"
   ]
  },
  {
   "cell_type": "code",
   "execution_count": null,
   "id": "e3f8960b-9705-44d7-a7f5-1be26a2e5041",
   "metadata": {},
   "outputs": [],
   "source": [
    "verbose = False\n",
    "n_steps = 100\n",
    "lr = 0.01\n",
    "_lambda = 0.01\n",
    "regularization = True\n",
    "# N = np.sum(bool_matrix)\n",
    "\n",
    "# intializing embedding vector from normal distribution with mean=0, std_dev=1/k\n",
    "P = np.random.normal(loc=0, scale=1.0/K, size=(n_user, K))\n",
    "Q = np.random.normal(loc=0, scale=1.0/K, size=(n_item, K))\n",
    "\n",
    "for n_step in range(1, n_steps):\n",
    "    for i in range(n_user):\n",
    "        for j in range(n_item):\n",
    "            r_ui = R[i, j]\n",
    "            if np.isnan(r_ui): # skip non-zero element\n",
    "                continue   \n",
    "            e_ui = r_ui - np.dot(P[i, :], Q[j, :])\n",
    "            if not regularization:\n",
    "                P[i, :] = P[i, :] + lr*e_ui*Q[j, :]\n",
    "                Q[j, :] = Q[j, :] + lr*e_ui*P[i, :]\n",
    "                continue\n",
    "\n",
    "            # Done for user_i with all item embedding vectors that had interactions\n",
    "            # then move on(all j is done, next i) to next user, repeat the process.\n",
    "            P[i, :] = P[i, :] + lr * (e_ui*Q[j, :] - _lambda*P[i, :]) # updates user emb vector(P_i) using item emb vector Q_j\n",
    "            Q[j, :] = Q[j, :] + lr * (e_ui*P[i, :] - _lambda*Q[j, :]) # use updated user emb vector to update Q_j\n",
    "    \n",
    "    if verbose:\n",
    "        if n_step % 10 == 0:\n",
    "            print(f\"{n_step} : RMSE =  \", np.round(calc_rmse(P, Q, train_R), 4))\n",
    "        \n",
    "print(f\"RMSE =  \", np.round(calc_rmse(P, Q, train_R), 4))"
   ]
  }
 ],
 "metadata": {
  "kernelspec": {
   "display_name": "Python 3 (ipykernel)",
   "language": "python",
   "name": "python3"
  },
  "language_info": {
   "codemirror_mode": {
    "name": "ipython",
    "version": 3
   },
   "file_extension": ".py",
   "mimetype": "text/x-python",
   "name": "python",
   "nbconvert_exporter": "python",
   "pygments_lexer": "ipython3",
   "version": "3.7.11"
  },
  "toc": {
   "base_numbering": 1,
   "nav_menu": {},
   "number_sections": true,
   "sideBar": true,
   "skip_h1_title": false,
   "title_cell": "Table of Contents",
   "title_sidebar": "Contents",
   "toc_cell": false,
   "toc_position": {},
   "toc_section_display": true,
   "toc_window_display": false
  },
  "toc-autonumbering": false
 },
 "nbformat": 4,
 "nbformat_minor": 5
}
