{
 "cells": [
  {
   "cell_type": "markdown",
   "id": "cfccff3c",
   "metadata": {},
   "source": [
    "Datasets\n",
    "- H&M\n",
    " - Goal: predict what article each customer will purchase for 7 days after training date ends.\n",
    " - Consists of articles.csv, customers.csv, transactions_train.csv\n",
    " - metrics: MAP@12 (Mean average percision at 12)"
   ]
  },
  {
   "cell_type": "markdown",
   "id": "68516ead",
   "metadata": {},
   "source": [
    "References:\n",
    "- \n",
    "\n",
    "\n",
    "- Datasets\n",
    "    - https://www.kaggle.com/competitions/h-and-m-personalized-fashion-recommendations\n",
    "    - https://grouplens.org/datasets/movielens/"
   ]
  },
  {
   "cell_type": "code",
   "execution_count": 57,
   "id": "7699d049",
   "metadata": {},
   "outputs": [],
   "source": [
    "import numpy as np\n",
    "import os\n",
    "import sys\n",
    "import pandas as pd\n",
    "import tensorflow as tf\n",
    "\n",
    "from tensorflow import keras"
   ]
  },
  {
   "cell_type": "code",
   "execution_count": 83,
   "id": "45419bb7",
   "metadata": {},
   "outputs": [
    {
     "name": "stdout",
     "output_type": "stream",
     "text": [
      "3.7.11 (default, Jul 27 2021, 09:42:29) [MSC v.1916 64 bit (AMD64)]\n",
      "tensorflow v : 2.7.0\n"
     ]
    }
   ],
   "source": [
    "print(sys.version)\n",
    "print(f\"tensorflow v : {tf.__version__}\")"
   ]
  },
  {
   "cell_type": "code",
   "execution_count": 3,
   "id": "b4b7e7c4",
   "metadata": {},
   "outputs": [],
   "source": [
    "def convert_csv_to_parquet(folder_path, file):\n",
    "    \"\"\"\n",
    "    Reads csv then convert to parquet file then remove original csv file\n",
    "    \n",
    "    parameters\n",
    "    ---------\n",
    "    folder_path : str, full path to folder that contain the file\n",
    "    file : str, file_name with extension\n",
    "    \n",
    "    returns\n",
    "    -------\n",
    "    nothing\n",
    "    \n",
    "    \"\"\"\n",
    "    f_name = file.split(\".\")[0]\n",
    "    file_path = os.path.join(folder_path, f_name)\n",
    "    csv_file_path = file_path + \".csv\"\n",
    "    df = pd.read_csv(csv_file_path)\n",
    "    df.to_parquet(file_path + \".parquet\")\n",
    "    os.remove(csv_file_path)"
   ]
  },
  {
   "cell_type": "code",
   "execution_count": 5,
   "id": "85f2a23c",
   "metadata": {},
   "outputs": [],
   "source": [
    "folder_path = '../datasets/h&m'\n",
    "data_files = os.listdir(folder_path)\n",
    "# for f in data_files:\n",
    "#     convert_csv_to_parquet(folder_path, f)"
   ]
  },
  {
   "cell_type": "code",
   "execution_count": 6,
   "id": "54371794",
   "metadata": {},
   "outputs": [],
   "source": [
    "article_df = pd.read_parquet(os.path.join(folder_path, \"articles.parquet\"))\n",
    "customer_df = pd.read_parquet(os.path.join(folder_path, \"customers.parquet\"))\n",
    "transaction_df = pd.read_csv(os.path.join(folder_path, \"transactions_train.csv\"))"
   ]
  },
  {
   "cell_type": "code",
   "execution_count": 37,
   "id": "22c96eb5",
   "metadata": {},
   "outputs": [
    {
     "name": "stdout",
     "output_type": "stream",
     "text": [
      "(31788324, 5)\n"
     ]
    },
    {
     "data": {
      "text/plain": [
       "t_dat                object\n",
       "customer_id          object\n",
       "article_id           object\n",
       "price               float64\n",
       "sales_channel_id      int64\n",
       "dtype: object"
      ]
     },
     "execution_count": 37,
     "metadata": {},
     "output_type": "execute_result"
    }
   ],
   "source": [
    "print(transaction_df.shape)\n",
    "transaction_df.dtypes"
   ]
  },
  {
   "cell_type": "code",
   "execution_count": 41,
   "id": "e5820ac5",
   "metadata": {},
   "outputs": [],
   "source": [
    "article_df[\"article_id\"] = article_df[\"article_id\"].astype(str)\n",
    "transaction_df[\"article_id\"] = transaction_df[\"article_id\"].astype(str)\n",
    "transaction_df['t_dat'] = pd.to_datetime(transaction_df['t_dat'], format='%Y-%m-%d') "
   ]
  },
  {
   "cell_type": "code",
   "execution_count": null,
   "id": "e2fb3665",
   "metadata": {},
   "outputs": [],
   "source": [
    "train_df = transaction_df"
   ]
  },
  {
   "cell_type": "code",
   "execution_count": 47,
   "id": "398ff673",
   "metadata": {},
   "outputs": [],
   "source": [
    "train_df = transaction_df.loc[(transaction_df['t_dat'] >= '2019-09-20') &\n",
    "                              (transaction_df['t_dat'] < '2020-08-20')].copy()\n",
    "test_df = transaction_df.loc[transaction_df['t_dat'] >= '2020-08-20'].copy()\n",
    "\n",
    "print(train_df['t_dat'].min(), train_df['t_dat'].max())\n",
    "print(test_df['t_dat'].min(), test_df['t_dat'].max())"
   ]
  },
  {
   "cell_type": "code",
   "execution_count": 56,
   "id": "98d290fe",
   "metadata": {},
   "outputs": [
    {
     "data": {
      "text/plain": [
       "array(['745014003', '812484002', '733098013', ..., '713824047',\n",
       "       '933374001', '871558001'], dtype=object)"
      ]
     },
     "execution_count": 56,
     "metadata": {},
     "output_type": "execute_result"
    }
   ],
   "source": [
    "train_df.article_id.unique()"
   ]
  },
  {
   "cell_type": "code",
   "execution_count": null,
   "id": "40c68be4",
   "metadata": {},
   "outputs": [],
   "source": [
    "class TwoTowerEmbeddingModel():\n",
    "    \"\"\"Model for learning query/item vector that will be mapped into\n",
    "    same vector space, later for efficient vector computations.\n",
    "    \"\"\"\n",
    "    def __init__(self):\n",
    "        emb_dim = 32\n",
    "        n_uniq_query = 1\n",
    "        n_uniq_item = 2\n",
    "        batch_size = 32\n",
    "        \n",
    "        self.query_model = tf.keras.layers.StringLookup(max_tokens=n_uniq_query)"
   ]
  },
  {
   "cell_type": "code",
   "execution_count": 142,
   "id": "d4ca69d6",
   "metadata": {},
   "outputs": [],
   "source": [
    "uniq_query_ids = train_df.article_id.unique()\n",
    "query_lookup = tf.keras.layers.StringLookup(vocabulary=uniq_query_ids)\n",
    "query_vocab_size = len(uniq_query_ids) + 1\n",
    "\n",
    "uniq_cust_ids = train_df.customer_id.unique()\n",
    "customer_lookup = tf.keras.layers.StringLookup(vocabulary=uniq_cust_ids)\n",
    "customer_vocab_size = len(uniq_cust_ids) + 1"
   ]
  },
  {
   "cell_type": "code",
   "execution_count": null,
   "id": "b68030e7",
   "metadata": {},
   "outputs": [],
   "source": [
    "query_embeddings = tf.keras.layers.Embedding(query_vocab_size, emb_dim)\n",
    "dense_1 = tf.keras.layers.Dense(256, activation='relu')(query_embeddings)\n",
    "query_ output = tf.keras.layers.Dense(emb_dim, activation='relu')\n",
    "\n",
    "\n",
    "item_embeddings = tf.keras.layers.Embedding(customer_vocab_size, emb_dim)\n",
    "dense_1 = tf.keras.layers.Dense(256, activation='relu')(movie_embeddings)\n",
    "item_output = tf.keras.layers.Dense(emb_dim, activation='relu')"
   ]
  },
  {
   "cell_type": "code",
   "execution_count": null,
   "id": "e32e2461",
   "metadata": {},
   "outputs": [],
   "source": []
  },
  {
   "cell_type": "markdown",
   "id": "aba5f89f",
   "metadata": {},
   "source": [
    "- Stringlookup : for lookup operation, it is just like label encoder.\n",
    "- n_uniq + 1 = vocab_size : to take into account out of vocab token. OOV token will have index = 0"
   ]
  },
  {
   "cell_type": "code",
   "execution_count": 108,
   "id": "672b3ebe",
   "metadata": {},
   "outputs": [],
   "source": [
    "uniq_article_ids = train_df.article_id.unique()\n",
    "article_lookup = tf.keras.layers.StringLookup(vocabulary=uniq_article_ids)\n",
    "\n",
    "# ??? why + 1?\n",
    "article_vocab_size = len(uniq_article_ids) + 1\n",
    "\n",
    "uniq_cust_ids = train_df.customer_id.unique()\n",
    "customer_lookup = tf.keras.layers.StringLookup(vocabulary=uniq_cust_ids)\n",
    "customer_vocab_size = len(uniq_cust_ids) + 1"
   ]
  },
  {
   "cell_type": "code",
   "execution_count": 106,
   "id": "d2769ac4",
   "metadata": {},
   "outputs": [
    {
     "data": {
      "text/html": [
       "<div>\n",
       "<style scoped>\n",
       "    .dataframe tbody tr th:only-of-type {\n",
       "        vertical-align: middle;\n",
       "    }\n",
       "\n",
       "    .dataframe tbody tr th {\n",
       "        vertical-align: top;\n",
       "    }\n",
       "\n",
       "    .dataframe thead th {\n",
       "        text-align: right;\n",
       "    }\n",
       "</style>\n",
       "<table border=\"1\" class=\"dataframe\">\n",
       "  <thead>\n",
       "    <tr style=\"text-align: right;\">\n",
       "      <th></th>\n",
       "      <th>t_dat</th>\n",
       "      <th>customer_id</th>\n",
       "      <th>article_id</th>\n",
       "      <th>price</th>\n",
       "      <th>sales_channel_id</th>\n",
       "    </tr>\n",
       "  </thead>\n",
       "  <tbody>\n",
       "    <tr>\n",
       "      <th>16803901</th>\n",
       "      <td>2019-09-20</td>\n",
       "      <td>0001d44dbe7f6c4b35200abdb052c77a87596fe1bdcc37...</td>\n",
       "      <td>745014003</td>\n",
       "      <td>0.020322</td>\n",
       "      <td>2</td>\n",
       "    </tr>\n",
       "    <tr>\n",
       "      <th>16803902</th>\n",
       "      <td>2019-09-20</td>\n",
       "      <td>0001d44dbe7f6c4b35200abdb052c77a87596fe1bdcc37...</td>\n",
       "      <td>812484002</td>\n",
       "      <td>0.054220</td>\n",
       "      <td>2</td>\n",
       "    </tr>\n",
       "  </tbody>\n",
       "</table>\n",
       "</div>"
      ],
      "text/plain": [
       "              t_dat                                        customer_id  \\\n",
       "16803901 2019-09-20  0001d44dbe7f6c4b35200abdb052c77a87596fe1bdcc37...   \n",
       "16803902 2019-09-20  0001d44dbe7f6c4b35200abdb052c77a87596fe1bdcc37...   \n",
       "\n",
       "         article_id     price  sales_channel_id  \n",
       "16803901  745014003  0.020322                 2  \n",
       "16803902  812484002  0.054220                 2  "
      ]
     },
     "execution_count": 106,
     "metadata": {},
     "output_type": "execute_result"
    }
   ],
   "source": [
    "train_df.head(2)"
   ]
  },
  {
   "cell_type": "code",
   "execution_count": 105,
   "id": "3217ce2d",
   "metadata": {},
   "outputs": [
    {
     "data": {
      "text/plain": [
       "{'customer_id': 16803901    0001d44dbe7f6c4b35200abdb052c77a87596fe1bdcc37...\n",
       " 16803902    0001d44dbe7f6c4b35200abdb052c77a87596fe1bdcc37...\n",
       " 16803903    0001d44dbe7f6c4b35200abdb052c77a87596fe1bdcc37...\n",
       " Name: customer_id, dtype: object,\n",
       " 'article_id': 16803901    745014003\n",
       " 16803902    812484002\n",
       " 16803903    733098013\n",
       " Name: article_id, dtype: object}"
      ]
     },
     "execution_count": 105,
     "metadata": {},
     "output_type": "execute_result"
    }
   ],
   "source": [
    "dict(train_df.iloc[:3][['customer_id', 'article_id']])"
   ]
  },
  {
   "cell_type": "markdown",
   "id": "71030d10",
   "metadata": {},
   "source": [
    "- repeat()?\n",
    "- brief review on tf.data.Dataset API"
   ]
  },
  {
   "cell_type": "code",
   "execution_count": 111,
   "id": "85420106",
   "metadata": {},
   "outputs": [],
   "source": [
    "batch_size = 32\n",
    "\n",
    "train_ds = (tf.data.Dataset\n",
    "            .from_tensor_slices(dict(train_df[['customer_id', 'article_id']]))\n",
    "            .shuffle(100_000)\n",
    "            .batch(batch_size)\n",
    "            .map(lambda x: {\"article_id\":article_lookup(x['article_id']), \n",
    "                           'customer_id':customer_lookup(x['customer_id'])})\n",
    "            .repeat())\n",
    "\n",
    "test_ds = (tf.data.Dataset\n",
    "            .from_tensor_slices(dict(test_df[['customer_id', 'article_id']]))\n",
    "            .batch(batch_size)\n",
    "            .map(lambda x: {\"article_id\":article_lookup(x['article_id']), \n",
    "                           'customer_id':customer_lookup(x['customer_id'])})\n",
    "            .repeat()) "
   ]
  },
  {
   "cell_type": "code",
   "execution_count": 112,
   "id": "0b39d83b",
   "metadata": {},
   "outputs": [
    {
     "data": {
      "text/plain": [
       "'[UNK]'"
      ]
     },
     "execution_count": 112,
     "metadata": {},
     "output_type": "execute_result"
    }
   ],
   "source": [
    "article_lookup.oov_token"
   ]
  },
  {
   "cell_type": "code",
   "execution_count": 124,
   "id": "49305f3e",
   "metadata": {},
   "outputs": [],
   "source": [
    "all_article = article_lookup([article_lookup.oov_token] + list(article_lookup.input_vocabulary))"
   ]
  },
  {
   "cell_type": "code",
   "execution_count": 118,
   "id": "d208e653",
   "metadata": {},
   "outputs": [
    {
     "data": {
      "text/plain": [
       "array(['745014003', '812484002', '733098013', ..., '713824047',\n",
       "       '933374001', '871558001'], dtype=object)"
      ]
     },
     "execution_count": 118,
     "metadata": {},
     "output_type": "execute_result"
    }
   ],
   "source": [
    "article_lookup.input_vocabulary"
   ]
  },
  {
   "cell_type": "code",
   "execution_count": 115,
   "id": "3c256adf",
   "metadata": {},
   "outputs": [
    {
     "data": {
      "text/plain": [
       "66779"
      ]
     },
     "execution_count": 115,
     "metadata": {},
     "output_type": "execute_result"
    }
   ],
   "source": [
    "article_vocab_size"
   ]
  },
  {
   "cell_type": "code",
   "execution_count": 68,
   "id": "556f0b70",
   "metadata": {},
   "outputs": [
    {
     "data": {
      "text/html": [
       "<div>\n",
       "<style scoped>\n",
       "    .dataframe tbody tr th:only-of-type {\n",
       "        vertical-align: middle;\n",
       "    }\n",
       "\n",
       "    .dataframe tbody tr th {\n",
       "        vertical-align: top;\n",
       "    }\n",
       "\n",
       "    .dataframe thead th {\n",
       "        text-align: right;\n",
       "    }\n",
       "</style>\n",
       "<table border=\"1\" class=\"dataframe\">\n",
       "  <thead>\n",
       "    <tr style=\"text-align: right;\">\n",
       "      <th></th>\n",
       "      <th>t_dat</th>\n",
       "      <th>customer_id</th>\n",
       "      <th>article_id</th>\n",
       "      <th>price</th>\n",
       "      <th>sales_channel_id</th>\n",
       "    </tr>\n",
       "  </thead>\n",
       "  <tbody>\n",
       "    <tr>\n",
       "      <th>16803901</th>\n",
       "      <td>2019-09-20</td>\n",
       "      <td>0001d44dbe7f6c4b35200abdb052c77a87596fe1bdcc37...</td>\n",
       "      <td>745014003</td>\n",
       "      <td>0.020322</td>\n",
       "      <td>2</td>\n",
       "    </tr>\n",
       "    <tr>\n",
       "      <th>16803902</th>\n",
       "      <td>2019-09-20</td>\n",
       "      <td>0001d44dbe7f6c4b35200abdb052c77a87596fe1bdcc37...</td>\n",
       "      <td>812484002</td>\n",
       "      <td>0.054220</td>\n",
       "      <td>2</td>\n",
       "    </tr>\n",
       "    <tr>\n",
       "      <th>16803903</th>\n",
       "      <td>2019-09-20</td>\n",
       "      <td>0001d44dbe7f6c4b35200abdb052c77a87596fe1bdcc37...</td>\n",
       "      <td>733098013</td>\n",
       "      <td>0.003373</td>\n",
       "      <td>2</td>\n",
       "    </tr>\n",
       "    <tr>\n",
       "      <th>16803904</th>\n",
       "      <td>2019-09-20</td>\n",
       "      <td>0001d44dbe7f6c4b35200abdb052c77a87596fe1bdcc37...</td>\n",
       "      <td>802842001</td>\n",
       "      <td>0.028797</td>\n",
       "      <td>2</td>\n",
       "    </tr>\n",
       "    <tr>\n",
       "      <th>16803905</th>\n",
       "      <td>2019-09-20</td>\n",
       "      <td>0001d44dbe7f6c4b35200abdb052c77a87596fe1bdcc37...</td>\n",
       "      <td>802842001</td>\n",
       "      <td>0.028797</td>\n",
       "      <td>2</td>\n",
       "    </tr>\n",
       "  </tbody>\n",
       "</table>\n",
       "</div>"
      ],
      "text/plain": [
       "              t_dat                                        customer_id  \\\n",
       "16803901 2019-09-20  0001d44dbe7f6c4b35200abdb052c77a87596fe1bdcc37...   \n",
       "16803902 2019-09-20  0001d44dbe7f6c4b35200abdb052c77a87596fe1bdcc37...   \n",
       "16803903 2019-09-20  0001d44dbe7f6c4b35200abdb052c77a87596fe1bdcc37...   \n",
       "16803904 2019-09-20  0001d44dbe7f6c4b35200abdb052c77a87596fe1bdcc37...   \n",
       "16803905 2019-09-20  0001d44dbe7f6c4b35200abdb052c77a87596fe1bdcc37...   \n",
       "\n",
       "         article_id     price  sales_channel_id  \n",
       "16803901  745014003  0.020322                 2  \n",
       "16803902  812484002  0.054220                 2  \n",
       "16803903  733098013  0.003373                 2  \n",
       "16803904  802842001  0.028797                 2  \n",
       "16803905  802842001  0.028797                 2  "
      ]
     },
     "execution_count": 68,
     "metadata": {},
     "output_type": "execute_result"
    }
   ],
   "source": [
    "train_df.head()"
   ]
  },
  {
   "cell_type": "code",
   "execution_count": 66,
   "id": "b292908b",
   "metadata": {},
   "outputs": [
    {
     "data": {
      "text/html": [
       "<div>\n",
       "<style scoped>\n",
       "    .dataframe tbody tr th:only-of-type {\n",
       "        vertical-align: middle;\n",
       "    }\n",
       "\n",
       "    .dataframe tbody tr th {\n",
       "        vertical-align: top;\n",
       "    }\n",
       "\n",
       "    .dataframe thead th {\n",
       "        text-align: right;\n",
       "    }\n",
       "</style>\n",
       "<table border=\"1\" class=\"dataframe\">\n",
       "  <thead>\n",
       "    <tr style=\"text-align: right;\">\n",
       "      <th></th>\n",
       "      <th>t_dat</th>\n",
       "      <th>customer_id</th>\n",
       "      <th>article_id</th>\n",
       "      <th>price</th>\n",
       "      <th>sales_channel_id</th>\n",
       "    </tr>\n",
       "  </thead>\n",
       "  <tbody>\n",
       "    <tr>\n",
       "      <th>16803901</th>\n",
       "      <td>2019-09-20</td>\n",
       "      <td>0001d44dbe7f6c4b35200abdb052c77a87596fe1bdcc37...</td>\n",
       "      <td>745014003</td>\n",
       "      <td>0.020322</td>\n",
       "      <td>2</td>\n",
       "    </tr>\n",
       "    <tr>\n",
       "      <th>16803902</th>\n",
       "      <td>2019-09-20</td>\n",
       "      <td>0001d44dbe7f6c4b35200abdb052c77a87596fe1bdcc37...</td>\n",
       "      <td>812484002</td>\n",
       "      <td>0.054220</td>\n",
       "      <td>2</td>\n",
       "    </tr>\n",
       "    <tr>\n",
       "      <th>16803903</th>\n",
       "      <td>2019-09-20</td>\n",
       "      <td>0001d44dbe7f6c4b35200abdb052c77a87596fe1bdcc37...</td>\n",
       "      <td>733098013</td>\n",
       "      <td>0.003373</td>\n",
       "      <td>2</td>\n",
       "    </tr>\n",
       "    <tr>\n",
       "      <th>16803904</th>\n",
       "      <td>2019-09-20</td>\n",
       "      <td>0001d44dbe7f6c4b35200abdb052c77a87596fe1bdcc37...</td>\n",
       "      <td>802842001</td>\n",
       "      <td>0.028797</td>\n",
       "      <td>2</td>\n",
       "    </tr>\n",
       "    <tr>\n",
       "      <th>16803905</th>\n",
       "      <td>2019-09-20</td>\n",
       "      <td>0001d44dbe7f6c4b35200abdb052c77a87596fe1bdcc37...</td>\n",
       "      <td>802842001</td>\n",
       "      <td>0.028797</td>\n",
       "      <td>2</td>\n",
       "    </tr>\n",
       "  </tbody>\n",
       "</table>\n",
       "</div>"
      ],
      "text/plain": [
       "              t_dat                                        customer_id  \\\n",
       "16803901 2019-09-20  0001d44dbe7f6c4b35200abdb052c77a87596fe1bdcc37...   \n",
       "16803902 2019-09-20  0001d44dbe7f6c4b35200abdb052c77a87596fe1bdcc37...   \n",
       "16803903 2019-09-20  0001d44dbe7f6c4b35200abdb052c77a87596fe1bdcc37...   \n",
       "16803904 2019-09-20  0001d44dbe7f6c4b35200abdb052c77a87596fe1bdcc37...   \n",
       "16803905 2019-09-20  0001d44dbe7f6c4b35200abdb052c77a87596fe1bdcc37...   \n",
       "\n",
       "         article_id     price  sales_channel_id  \n",
       "16803901  745014003  0.020322                 2  \n",
       "16803902  812484002  0.054220                 2  \n",
       "16803903  733098013  0.003373                 2  \n",
       "16803904  802842001  0.028797                 2  \n",
       "16803905  802842001  0.028797                 2  "
      ]
     },
     "execution_count": 66,
     "metadata": {},
     "output_type": "execute_result"
    }
   ],
   "source": [
    "train_df.head()"
   ]
  },
  {
   "cell_type": "code",
   "execution_count": 63,
   "id": "29503d29",
   "metadata": {},
   "outputs": [
    {
     "name": "stdout",
     "output_type": "stream",
     "text": [
      "66779\n"
     ]
    }
   ],
   "source": [
    "print(article_vocab_size)"
   ]
  },
  {
   "cell_type": "markdown",
   "id": "d5d35d4a",
   "metadata": {},
   "source": [
    "\n",
    "- recall@k : n_hit/len(targets), n_hit = set(pred) & set(targets)  \n",
    "- MAP@k : [0,1,1] -> prec@k = [0, 1/2, 2/3] -> AP@k = (1/k)[1/2+2/3] -> MAP@K = mean of APs(multiple lists)."
   ]
  },
  {
   "cell_type": "code",
   "execution_count": 125,
   "id": "6bd6592e",
   "metadata": {},
   "outputs": [
    {
     "data": {
      "text/html": [
       "<div>\n",
       "<style scoped>\n",
       "    .dataframe tbody tr th:only-of-type {\n",
       "        vertical-align: middle;\n",
       "    }\n",
       "\n",
       "    .dataframe tbody tr th {\n",
       "        vertical-align: top;\n",
       "    }\n",
       "\n",
       "    .dataframe thead th {\n",
       "        text-align: right;\n",
       "    }\n",
       "</style>\n",
       "<table border=\"1\" class=\"dataframe\">\n",
       "  <thead>\n",
       "    <tr style=\"text-align: right;\">\n",
       "      <th></th>\n",
       "      <th>t_dat</th>\n",
       "      <th>customer_id</th>\n",
       "      <th>article_id</th>\n",
       "      <th>price</th>\n",
       "      <th>sales_channel_id</th>\n",
       "    </tr>\n",
       "  </thead>\n",
       "  <tbody>\n",
       "    <tr>\n",
       "      <th>0</th>\n",
       "      <td>2018-09-20</td>\n",
       "      <td>000058a12d5b43e67d225668fa1f8d618c13dc232df0ca...</td>\n",
       "      <td>663713001</td>\n",
       "      <td>0.050831</td>\n",
       "      <td>2</td>\n",
       "    </tr>\n",
       "    <tr>\n",
       "      <th>1</th>\n",
       "      <td>2018-09-20</td>\n",
       "      <td>000058a12d5b43e67d225668fa1f8d618c13dc232df0ca...</td>\n",
       "      <td>541518023</td>\n",
       "      <td>0.030492</td>\n",
       "      <td>2</td>\n",
       "    </tr>\n",
       "    <tr>\n",
       "      <th>2</th>\n",
       "      <td>2018-09-20</td>\n",
       "      <td>00007d2de826758b65a93dd24ce629ed66842531df6699...</td>\n",
       "      <td>505221004</td>\n",
       "      <td>0.015237</td>\n",
       "      <td>2</td>\n",
       "    </tr>\n",
       "    <tr>\n",
       "      <th>3</th>\n",
       "      <td>2018-09-20</td>\n",
       "      <td>00007d2de826758b65a93dd24ce629ed66842531df6699...</td>\n",
       "      <td>685687003</td>\n",
       "      <td>0.016932</td>\n",
       "      <td>2</td>\n",
       "    </tr>\n",
       "    <tr>\n",
       "      <th>4</th>\n",
       "      <td>2018-09-20</td>\n",
       "      <td>00007d2de826758b65a93dd24ce629ed66842531df6699...</td>\n",
       "      <td>685687004</td>\n",
       "      <td>0.016932</td>\n",
       "      <td>2</td>\n",
       "    </tr>\n",
       "  </tbody>\n",
       "</table>\n",
       "</div>"
      ],
      "text/plain": [
       "       t_dat                                        customer_id article_id  \\\n",
       "0 2018-09-20  000058a12d5b43e67d225668fa1f8d618c13dc232df0ca...  663713001   \n",
       "1 2018-09-20  000058a12d5b43e67d225668fa1f8d618c13dc232df0ca...  541518023   \n",
       "2 2018-09-20  00007d2de826758b65a93dd24ce629ed66842531df6699...  505221004   \n",
       "3 2018-09-20  00007d2de826758b65a93dd24ce629ed66842531df6699...  685687003   \n",
       "4 2018-09-20  00007d2de826758b65a93dd24ce629ed66842531df6699...  685687004   \n",
       "\n",
       "      price  sales_channel_id  \n",
       "0  0.050831                 2  \n",
       "1  0.030492                 2  \n",
       "2  0.015237                 2  \n",
       "3  0.016932                 2  \n",
       "4  0.016932                 2  "
      ]
     },
     "execution_count": 125,
     "metadata": {},
     "output_type": "execute_result"
    }
   ],
   "source": [
    "transaction_df.head()"
   ]
  },
  {
   "cell_type": "code",
   "execution_count": null,
   "id": "abe1c613",
   "metadata": {},
   "outputs": [],
   "source": []
  }
 ],
 "metadata": {
  "kernelspec": {
   "display_name": "Python 3 (ipykernel)",
   "language": "python",
   "name": "python3"
  },
  "language_info": {
   "codemirror_mode": {
    "name": "ipython",
    "version": 3
   },
   "file_extension": ".py",
   "mimetype": "text/x-python",
   "name": "python",
   "nbconvert_exporter": "python",
   "pygments_lexer": "ipython3",
   "version": "3.7.11"
  },
  "toc": {
   "base_numbering": 1,
   "nav_menu": {},
   "number_sections": true,
   "sideBar": true,
   "skip_h1_title": false,
   "title_cell": "Table of Contents",
   "title_sidebar": "Contents",
   "toc_cell": false,
   "toc_position": {},
   "toc_section_display": true,
   "toc_window_display": false
  }
 },
 "nbformat": 4,
 "nbformat_minor": 5
}
