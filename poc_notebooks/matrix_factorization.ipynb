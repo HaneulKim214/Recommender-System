{
 "cells": [
  {
   "cell_type": "code",
   "execution_count": 1,
   "id": "f13cb8dc",
   "metadata": {},
   "outputs": [],
   "source": [
    "from datetime import datetime, timedelta\n",
    "import numpy as np\n",
    "import pandas as pd"
   ]
  },
  {
   "cell_type": "code",
   "execution_count": 2,
   "id": "56a50667",
   "metadata": {},
   "outputs": [],
   "source": [
    "def replace_zero_to_nan(m):\n",
    "    m = m.astype(float)\n",
    "    m[m==0] = np.nan\n",
    "    return m\n",
    "\n",
    "def calc_rmse(P, Q, R):\n",
    "    R_pred = np.dot(P, Q.T)\n",
    "    mse = np.nanmean((R - R_pred)**2)\n",
    "    rmse = np.sqrt(mse)\n",
    "    return rmse"
   ]
  },
  {
   "cell_type": "code",
   "execution_count": 3,
   "id": "ae0be885",
   "metadata": {},
   "outputs": [],
   "source": [
    "df = pd.DataFrame({\"user\":np.array([[u]*5 for u in [0,1,2,3]]).reshape(-1), \n",
    "                   'item':[0,1,2,3,4]*4,\n",
    "                   'ratings':[2,1,5,4,5, \n",
    "                              5, 4, 1, np.nan, 2,\n",
    "                              1,1,5,2,2,\n",
    "                              1, np.nan, np.nan, 4, 3]\n",
    "                  })\n",
    "R = df.pivot(index='item', columns='user', values='ratings').values"
   ]
  },
  {
   "cell_type": "markdown",
   "id": "cabaff00-1fd4-4297-8e07-0662b259ca7d",
   "metadata": {},
   "source": [
    "## w/o converting df to rating matrix"
   ]
  },
  {
   "cell_type": "code",
   "execution_count": null,
   "id": "80c509be",
   "metadata": {},
   "outputs": [],
   "source": [
    "\"\"\"\n",
    "1. hm.... how to vectorizer above np.dot(P, Q.T)?\n",
    "2. how to deal with no rating rows?\n",
    "\"\"\"\n"
   ]
  },
  {
   "cell_type": "code",
   "execution_count": 4,
   "id": "82b64f21-dc52-445c-aa6b-f3317ad4cef6",
   "metadata": {},
   "outputs": [
    {
     "data": {
      "text/html": [
       "<div>\n",
       "<style scoped>\n",
       "    .dataframe tbody tr th:only-of-type {\n",
       "        vertical-align: middle;\n",
       "    }\n",
       "\n",
       "    .dataframe tbody tr th {\n",
       "        vertical-align: top;\n",
       "    }\n",
       "\n",
       "    .dataframe thead th {\n",
       "        text-align: right;\n",
       "    }\n",
       "</style>\n",
       "<table border=\"1\" class=\"dataframe\">\n",
       "  <thead>\n",
       "    <tr style=\"text-align: right;\">\n",
       "      <th></th>\n",
       "      <th>user</th>\n",
       "      <th>item</th>\n",
       "      <th>ratings</th>\n",
       "    </tr>\n",
       "  </thead>\n",
       "  <tbody>\n",
       "    <tr>\n",
       "      <th>0</th>\n",
       "      <td>0</td>\n",
       "      <td>0</td>\n",
       "      <td>2.0</td>\n",
       "    </tr>\n",
       "    <tr>\n",
       "      <th>1</th>\n",
       "      <td>0</td>\n",
       "      <td>1</td>\n",
       "      <td>1.0</td>\n",
       "    </tr>\n",
       "    <tr>\n",
       "      <th>2</th>\n",
       "      <td>0</td>\n",
       "      <td>2</td>\n",
       "      <td>5.0</td>\n",
       "    </tr>\n",
       "    <tr>\n",
       "      <th>3</th>\n",
       "      <td>0</td>\n",
       "      <td>3</td>\n",
       "      <td>4.0</td>\n",
       "    </tr>\n",
       "    <tr>\n",
       "      <th>4</th>\n",
       "      <td>0</td>\n",
       "      <td>4</td>\n",
       "      <td>5.0</td>\n",
       "    </tr>\n",
       "  </tbody>\n",
       "</table>\n",
       "</div>"
      ],
      "text/plain": [
       "   user  item  ratings\n",
       "0     0     0      2.0\n",
       "1     0     1      1.0\n",
       "2     0     2      5.0\n",
       "3     0     3      4.0\n",
       "4     0     4      5.0"
      ]
     },
     "execution_count": 4,
     "metadata": {},
     "output_type": "execute_result"
    }
   ],
   "source": [
    "df.head()"
   ]
  },
  {
   "cell_type": "code",
   "execution_count": 5,
   "id": "96916d05-8e9b-4345-a092-84a27ec91b8f",
   "metadata": {},
   "outputs": [],
   "source": [
    "df.dropna(inplace=True)"
   ]
  },
  {
   "cell_type": "code",
   "execution_count": 6,
   "id": "7f95b743-9480-4fe3-b0d2-0d7097736ab8",
   "metadata": {},
   "outputs": [],
   "source": [
    "n_users = df['user'].nunique()\n",
    "n_items = df['item'].nunique()\n",
    "\n",
    "K = 3\n",
    "# intializing embedding vector from normal distribution with mean=0, std_dev=1/k\n",
    "P = np.random.normal(loc=0, scale=1.0/K, size=(n_users, K))\n",
    "Q = np.random.normal(loc=0, scale=1.0/K, size=(n_items, K))"
   ]
  },
  {
   "cell_type": "code",
   "execution_count": null,
   "id": "202fe1e1-d086-4585-8c46-79625c259e41",
   "metadata": {},
   "outputs": [],
   "source": [
    "user_emb = P[df['user']]\n",
    "item_emb = Q[df['item']]\n",
    "print(user_emb.shape)\n",
    "print(item_emb.shape)\n",
    "\n",
    "np.sum(user_emb + item_emb, axis=1)\n",
    "\n",
    "# hm... sgd method updates user/item embedding vector each iteration. so prediction on one user\n",
    "# will change each iteration that consists of that user. -> making prediction before hand on all\n",
    "# interaction by vectorization is useless..."
   ]
  },
  {
   "cell_type": "code",
   "execution_count": 7,
   "id": "e68a082d-c26c-4791-ac8b-74db324de916",
   "metadata": {},
   "outputs": [
    {
     "data": {
      "text/plain": [
       "(array([[-1.76929671e-01,  5.62878463e-01,  2.27582011e-04],\n",
       "        [ 2.17595843e-01,  1.88689665e-01,  3.05486921e-01],\n",
       "        [-4.38733853e-01,  2.24525947e-01,  1.46512954e-01],\n",
       "        [ 1.92724393e-01,  2.72089027e-02, -1.82197032e-01]]),\n",
       " array([[-0.40296201,  0.08090255,  0.2103449 ],\n",
       "        [-0.03172667, -0.34742306,  0.46983617],\n",
       "        [ 0.45306162, -0.36357359, -0.51085631],\n",
       "        [ 0.54384406, -0.22884538,  0.26698266],\n",
       "        [-0.15368954,  0.32766316,  0.52380375]]))"
      ]
     },
     "execution_count": 7,
     "metadata": {},
     "output_type": "execute_result"
    }
   ],
   "source": [
    "P, Q"
   ]
  },
  {
   "cell_type": "code",
   "execution_count": 8,
   "id": "c63aa3e4-423b-4e41-b205-feb8987393b5",
   "metadata": {},
   "outputs": [],
   "source": [
    "lr = 0.01\n",
    "_lambda = 0.01\n",
    "epoch = 100\n",
    "\n",
    "for i in range(epoch):\n",
    "    for row in df.itertuples():\n",
    "        user_id = getattr(row, \"user\")\n",
    "        item_id = getattr(row, \"item\")\n",
    "        r_ui = getattr(row, \"ratings\")\n",
    "        pred_r_ui = np.dot(P[user_id], \n",
    "                           Q[item_id])\n",
    "        e_ui = r_ui - pred_r_ui\n",
    "\n",
    "        P[user_id] = P[user_id] + lr * (e_ui*Q[item_id] - _lambda*P[user_id])\n",
    "        Q[item_id] = Q[item_id] + lr * (e_ui*P[user_id] - _lambda*Q[item_id])"
   ]
  },
  {
   "cell_type": "code",
   "execution_count": 30,
   "id": "56516b99-ae9c-41cc-9f6b-20d9e65237f9",
   "metadata": {},
   "outputs": [],
   "source": [
    "user_emb = P[df['user']]\n",
    "item_emb = Q[df['item']]\n",
    "\n",
    "df['pred_rating'] = np.sum(user_emb * item_emb, axis=1)"
   ]
  },
  {
   "cell_type": "code",
   "execution_count": 32,
   "id": "a003e3b3-458f-4aef-8586-439a7bce4238",
   "metadata": {},
   "outputs": [
    {
     "data": {
      "text/html": [
       "<div>\n",
       "<style scoped>\n",
       "    .dataframe tbody tr th:only-of-type {\n",
       "        vertical-align: middle;\n",
       "    }\n",
       "\n",
       "    .dataframe tbody tr th {\n",
       "        vertical-align: top;\n",
       "    }\n",
       "\n",
       "    .dataframe thead th {\n",
       "        text-align: right;\n",
       "    }\n",
       "</style>\n",
       "<table border=\"1\" class=\"dataframe\">\n",
       "  <thead>\n",
       "    <tr style=\"text-align: right;\">\n",
       "      <th></th>\n",
       "      <th>user</th>\n",
       "      <th>item</th>\n",
       "      <th>ratings</th>\n",
       "      <th>pred_rating</th>\n",
       "    </tr>\n",
       "  </thead>\n",
       "  <tbody>\n",
       "    <tr>\n",
       "      <th>0</th>\n",
       "      <td>0</td>\n",
       "      <td>0</td>\n",
       "      <td>2.0</td>\n",
       "      <td>2.121935</td>\n",
       "    </tr>\n",
       "    <tr>\n",
       "      <th>1</th>\n",
       "      <td>0</td>\n",
       "      <td>1</td>\n",
       "      <td>1.0</td>\n",
       "      <td>1.023307</td>\n",
       "    </tr>\n",
       "    <tr>\n",
       "      <th>2</th>\n",
       "      <td>0</td>\n",
       "      <td>2</td>\n",
       "      <td>5.0</td>\n",
       "      <td>5.025296</td>\n",
       "    </tr>\n",
       "    <tr>\n",
       "      <th>3</th>\n",
       "      <td>0</td>\n",
       "      <td>3</td>\n",
       "      <td>4.0</td>\n",
       "      <td>4.259571</td>\n",
       "    </tr>\n",
       "    <tr>\n",
       "      <th>4</th>\n",
       "      <td>0</td>\n",
       "      <td>4</td>\n",
       "      <td>5.0</td>\n",
       "      <td>4.634675</td>\n",
       "    </tr>\n",
       "    <tr>\n",
       "      <th>5</th>\n",
       "      <td>1</td>\n",
       "      <td>0</td>\n",
       "      <td>5.0</td>\n",
       "      <td>4.953542</td>\n",
       "    </tr>\n",
       "    <tr>\n",
       "      <th>6</th>\n",
       "      <td>1</td>\n",
       "      <td>1</td>\n",
       "      <td>4.0</td>\n",
       "      <td>3.981638</td>\n",
       "    </tr>\n",
       "    <tr>\n",
       "      <th>7</th>\n",
       "      <td>1</td>\n",
       "      <td>2</td>\n",
       "      <td>1.0</td>\n",
       "      <td>0.994183</td>\n",
       "    </tr>\n",
       "    <tr>\n",
       "      <th>9</th>\n",
       "      <td>1</td>\n",
       "      <td>4</td>\n",
       "      <td>2.0</td>\n",
       "      <td>2.024196</td>\n",
       "    </tr>\n",
       "    <tr>\n",
       "      <th>10</th>\n",
       "      <td>2</td>\n",
       "      <td>0</td>\n",
       "      <td>1.0</td>\n",
       "      <td>0.893856</td>\n",
       "    </tr>\n",
       "    <tr>\n",
       "      <th>11</th>\n",
       "      <td>2</td>\n",
       "      <td>1</td>\n",
       "      <td>1.0</td>\n",
       "      <td>0.970403</td>\n",
       "    </tr>\n",
       "    <tr>\n",
       "      <th>12</th>\n",
       "      <td>2</td>\n",
       "      <td>2</td>\n",
       "      <td>5.0</td>\n",
       "      <td>4.930016</td>\n",
       "    </tr>\n",
       "    <tr>\n",
       "      <th>13</th>\n",
       "      <td>2</td>\n",
       "      <td>3</td>\n",
       "      <td>2.0</td>\n",
       "      <td>1.754759</td>\n",
       "    </tr>\n",
       "    <tr>\n",
       "      <th>14</th>\n",
       "      <td>2</td>\n",
       "      <td>4</td>\n",
       "      <td>2.0</td>\n",
       "      <td>2.300403</td>\n",
       "    </tr>\n",
       "    <tr>\n",
       "      <th>15</th>\n",
       "      <td>3</td>\n",
       "      <td>0</td>\n",
       "      <td>1.0</td>\n",
       "      <td>0.906161</td>\n",
       "    </tr>\n",
       "    <tr>\n",
       "      <th>18</th>\n",
       "      <td>3</td>\n",
       "      <td>3</td>\n",
       "      <td>4.0</td>\n",
       "      <td>3.792201</td>\n",
       "    </tr>\n",
       "    <tr>\n",
       "      <th>19</th>\n",
       "      <td>3</td>\n",
       "      <td>4</td>\n",
       "      <td>3.0</td>\n",
       "      <td>3.215592</td>\n",
       "    </tr>\n",
       "  </tbody>\n",
       "</table>\n",
       "</div>"
      ],
      "text/plain": [
       "    user  item  ratings  pred_rating\n",
       "0      0     0      2.0     2.121935\n",
       "1      0     1      1.0     1.023307\n",
       "2      0     2      5.0     5.025296\n",
       "3      0     3      4.0     4.259571\n",
       "4      0     4      5.0     4.634675\n",
       "5      1     0      5.0     4.953542\n",
       "6      1     1      4.0     3.981638\n",
       "7      1     2      1.0     0.994183\n",
       "9      1     4      2.0     2.024196\n",
       "10     2     0      1.0     0.893856\n",
       "11     2     1      1.0     0.970403\n",
       "12     2     2      5.0     4.930016\n",
       "13     2     3      2.0     1.754759\n",
       "14     2     4      2.0     2.300403\n",
       "15     3     0      1.0     0.906161\n",
       "18     3     3      4.0     3.792201\n",
       "19     3     4      3.0     3.215592"
      ]
     },
     "execution_count": 32,
     "metadata": {},
     "output_type": "execute_result"
    }
   ],
   "source": [
    "df"
   ]
  },
  {
   "cell_type": "code",
   "execution_count": null,
   "id": "6344d96e-6409-4c92-89bd-aca68f79e675",
   "metadata": {},
   "outputs": [],
   "source": [
    "R = df.pivot(index=\"item\", columns=\"user\", values=\"ratings\").values"
   ]
  },
  {
   "cell_type": "code",
   "execution_count": null,
   "id": "901c2cf7-b3db-4201-a1b4-0b7bfb4de3d5",
   "metadata": {},
   "outputs": [],
   "source": [
    "df"
   ]
  },
  {
   "cell_type": "code",
   "execution_count": null,
   "id": "7b71d095-4fde-4971-897f-23f774974924",
   "metadata": {},
   "outputs": [],
   "source": [
    "R"
   ]
  },
  {
   "cell_type": "code",
   "execution_count": null,
   "id": "21badcf7-992f-4b0f-825d-5caf92bf4dab",
   "metadata": {},
   "outputs": [],
   "source": [
    "n_users, n_items = R.shape\n",
    "K=3\n",
    "P = np.random.normal(loc=0, scale=1.0/K, size=(n_users, K))\n",
    "Q = np.random.normal(loc=0, scale=1.0/K, size=(n_items, K))\n",
    "\n",
    "for n_step in range(1, epoch):\n",
    "    for i in range(n_users):\n",
    "        for j in range(n_items):\n",
    "            r_ui = R[i, j]\n",
    "            if np.isnan(r_ui): # skip empty elements\n",
    "                continue\n",
    "            pred_r_ui = np.dot(P[i, :], Q[j, :])\n",
    "            e_ui = r_ui - pred_r_ui\n",
    "            P[i, :] = P[i, :] + lr * (e_ui * Q[j, :] - _lambda * P[i,:]) \n",
    "            Q[j, :] = Q[j, :] + lr * (e_ui * P[i, :] - _lambda * Q[j, :])\n",
    "    if n_step % 10 == 0:\n",
    "        print(f\"{n_step} : RMSE =  \", np.round(calc_rmse(P, Q, R), 4))"
   ]
  },
  {
   "cell_type": "code",
   "execution_count": null,
   "id": "0077e0c5-3434-4970-85f5-36a7a305367c",
   "metadata": {},
   "outputs": [],
   "source": [
    "R"
   ]
  },
  {
   "cell_type": "code",
   "execution_count": null,
   "id": "f83456b0-82dd-4b13-bc14-807150ff5879",
   "metadata": {},
   "outputs": [],
   "source": [
    "np.dot(P, Q.T)"
   ]
  },
  {
   "cell_type": "code",
   "execution_count": null,
   "id": "4dc5fd4b-6aed-4e49-87b0-4d0a5ec45805",
   "metadata": {},
   "outputs": [],
   "source": []
  },
  {
   "cell_type": "code",
   "execution_count": null,
   "id": "f838ef3c-bb66-489b-8147-61c361efae71",
   "metadata": {},
   "outputs": [],
   "source": []
  },
  {
   "cell_type": "code",
   "execution_count": null,
   "id": "cd0fe101-c170-4c34-9397-432e95a5aca3",
   "metadata": {},
   "outputs": [],
   "source": []
  },
  {
   "cell_type": "code",
   "execution_count": null,
   "id": "2a6c5838",
   "metadata": {},
   "outputs": [],
   "source": [
    "# embedding dimension\n",
    "K = 3\n",
    "\n",
    "# train test split, train takes 70% elements at random, other 6 become np.nan\n",
    "train_ratio = 0.7\n",
    "\n",
    "# Note since this is not deterministic train set may not consist exactly 70% of the data.\n",
    "bool_matrix = (np.random.rand(n_user, n_item) < train_ratio)\n",
    "train_R = replace_zero_to_nan(R * bool_matrix)\n",
    "test_R = replace_zero_to_nan(R * ~bool_matrix)"
   ]
  },
  {
   "cell_type": "code",
   "execution_count": null,
   "id": "971270f5",
   "metadata": {},
   "outputs": [],
   "source": [
    "n_steps = 100\n",
    "lr = 0.01\n",
    "_lambda = 0.01\n",
    "regularization = True\n",
    "# N = np.sum(bool_matrix)\n",
    "\n",
    "# intializing embedding vector from normal distribution with mean=0, std_dev=1/k\n",
    "P = np.random.normal(loc=0, scale=1.0/K, size=(n_user, K))\n",
    "Q = np.random.normal(loc=0, scale=1.0/K, size=(n_item, K))\n",
    "\n",
    "for n_step in range(1, n_steps):\n",
    "    for i in range(n_user):\n",
    "        for j in range(n_item):\n",
    "            r_ui = R[i, j]\n",
    "            if np.isnan(r_ui): # skip non-zero element\n",
    "                continue   \n",
    "            e_ui = r_ui - np.dot(P[i, :], Q[j, :])\n",
    "            if not regularization:\n",
    "                P[i, :] = P[i, :] + lr*e_ui*Q[j, :]\n",
    "                Q[j, :] = Q[j, :] + lr*e_ui*P[i, :]\n",
    "                continue\n",
    "\n",
    "            # Done for user_i with all item embedding vectors that had interactions\n",
    "            # then move on(all j is done, next i) to next user, repeat the process.\n",
    "            P[i, :] = P[i, :] + lr * (e_ui*Q[j, :] - _lambda*P[i, :]) # updates user emb vector(P_i) using item emb vector Q_j\n",
    "            Q[j, :] = Q[j, :] + lr * (e_ui*P[i, :] - _lambda*Q[j, :]) # use updated user emb vector to update Q_j\n",
    "            \n",
    "    if n_step % 10 == 0:\n",
    "        print(f\"{n_step} : RMSE =  \", np.round(calc_rmse(P, Q, train_R), 4))\n",
    "        \n",
    "print(f\"Train RMSE =  \", np.round(calc_rmse(P, Q, train_R), 4))\n",
    "print(f\"Test RMSE =  \", np.round(calc_rmse(P, Q, test_R), 4))"
   ]
  },
  {
   "cell_type": "code",
   "execution_count": null,
   "id": "c812f7a7",
   "metadata": {},
   "outputs": [],
   "source": [
    "pred_R = np.dot(P, Q.T)"
   ]
  },
  {
   "cell_type": "code",
   "execution_count": null,
   "id": "f5824ffb",
   "metadata": {},
   "outputs": [],
   "source": [
    "item_list = [\"vacuum\", 'sweeper', 'laptop', 'mouse', 'keyboard']\n",
    "user_list = df['user'].unique().tolist()"
   ]
  },
  {
   "cell_type": "code",
   "execution_count": null,
   "id": "4f983965",
   "metadata": {},
   "outputs": [],
   "source": [
    "def preferenece_rec(user):\n",
    "    \"\"\"\n",
    "    Given user output item that user will prefer.\n",
    "    \n",
    "    parameters\n",
    "    ---------\n",
    "    user : int, user_id\n",
    "    \"\"\"\n",
    "    return item_list[np.argmax(pred_R[:, user])]"
   ]
  },
  {
   "cell_type": "code",
   "execution_count": null,
   "id": "2582de26",
   "metadata": {},
   "outputs": [],
   "source": [
    "for user in user_list:\n",
    "    rec_item = preferenece_rec(user)\n",
    "    print(f\"user_{user} will like = {rec_item}\")"
   ]
  }
 ],
 "metadata": {
  "kernelspec": {
   "display_name": "Python 3 (ipykernel)",
   "language": "python",
   "name": "python3"
  },
  "language_info": {
   "codemirror_mode": {
    "name": "ipython",
    "version": 3
   },
   "file_extension": ".py",
   "mimetype": "text/x-python",
   "name": "python",
   "nbconvert_exporter": "python",
   "pygments_lexer": "ipython3",
   "version": "3.7.11"
  },
  "toc": {
   "base_numbering": 1,
   "nav_menu": {},
   "number_sections": true,
   "sideBar": true,
   "skip_h1_title": false,
   "title_cell": "Table of Contents",
   "title_sidebar": "Contents",
   "toc_cell": false,
   "toc_position": {},
   "toc_section_display": true,
   "toc_window_display": false
  },
  "toc-autonumbering": false
 },
 "nbformat": 4,
 "nbformat_minor": 5
}
