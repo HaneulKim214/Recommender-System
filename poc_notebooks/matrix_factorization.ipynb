{
 "cells": [
  {
   "cell_type": "code",
   "execution_count": 1,
   "id": "f13cb8dc",
   "metadata": {},
   "outputs": [],
   "source": [
    "import numpy as np\n",
    "import pandas as pd"
   ]
  },
  {
   "cell_type": "code",
   "execution_count": 2,
   "id": "56a50667",
   "metadata": {},
   "outputs": [],
   "source": [
    "def replace_zero_to_nan(m):\n",
    "    m = m.astype(float)\n",
    "    m[m==0] = np.nan\n",
    "    return m\n",
    "\n",
    "def calc_rmse(P, Q, R):\n",
    "    R_pred = np.dot(P, Q.T)\n",
    "    mse = np.nanmean((R - R_pred)**2)\n",
    "    rmse = np.sqrt(mse)\n",
    "    return rmse"
   ]
  },
  {
   "cell_type": "code",
   "execution_count": 3,
   "id": "ae0be885",
   "metadata": {},
   "outputs": [],
   "source": [
    "df = pd.DataFrame({\"user\":np.array([[u]*5 for u in [0,1,2,3]]).reshape(-1), \n",
    "                   'item':[0,1,2,3,4]*4,\n",
    "                   'ratings':[2,1,5,4,5, \n",
    "                              5, 4, 1, np.nan, 2,\n",
    "                              1,1,5,2,2,\n",
    "                              1, np.nan, np.nan, 4, 3]\n",
    "                  })\n",
    "R = df.pivot(index='item', columns='user', values='ratings').values"
   ]
  },
  {
   "cell_type": "code",
   "execution_count": 4,
   "id": "f1ed942c",
   "metadata": {},
   "outputs": [
    {
     "name": "stdout",
     "output_type": "stream",
     "text": [
      "# users = 5\n",
      "# item = 4\n"
     ]
    }
   ],
   "source": [
    "n_user, n_item = R.shape\n",
    "print(f'# users = {n_user}')\n",
    "print(f'# item = {n_item}')\n",
    "np.random.seed(1)"
   ]
  },
  {
   "cell_type": "code",
   "execution_count": null,
   "id": "2a6c5838",
   "metadata": {},
   "outputs": [],
   "source": [
    "# embedding dimension\n",
    "K = 3\n",
    "\n",
    "# train test split, train takes 70% elements at random, other 6 become np.nan\n",
    "train_ratio = 0.7\n",
    "\n",
    "# Note since this is not deterministic train set may not consist exactly 70% of the data.\n",
    "bool_matrix = (np.random.rand(n_user, n_item) < train_ratio)\n",
    "train_R = replace_zero_to_nan(R * bool_matrix)\n",
    "test_R = replace_zero_to_nan(R * ~bool_matrix)"
   ]
  },
  {
   "cell_type": "code",
   "execution_count": null,
   "id": "8db2c373",
   "metadata": {},
   "outputs": [],
   "source": [
    "# intializing embedding vector from normal distribution with mean=0, std_dev=1/k\n",
    "P = np.random.normal(loc=0, scale=1.0/K, size=(n_user, K))\n",
    "Q = np.random.normal(loc=0, scale=1.0/K, size=(n_item, K))"
   ]
  },
  {
   "cell_type": "code",
   "execution_count": null,
   "id": "971270f5",
   "metadata": {},
   "outputs": [],
   "source": [
    "n_steps = 100\n",
    "lr = 0.01\n",
    "_lambda = 0.01\n",
    "regularization = True\n",
    "N = np.sum(bool_matrix)\n",
    "for n_step in range(1, n_steps):\n",
    "    for i in range(n_user):\n",
    "        for j in range(n_item):\n",
    "            r_ui = train_R[i, j]\n",
    "            if np.isnan(r_ui): # skip non-zero element\n",
    "                continue   \n",
    "            e_ui = r_ui - np.dot(P[i, :], Q[j, :])\n",
    "            if not regularization:\n",
    "                P[i, :] = P[i, :] + lr*e_ui*Q[j, :]\n",
    "                Q[j, :] = Q[j, :] + lr*e_ui*P[i, :]\n",
    "                continue\n",
    "\n",
    "            # Done for user_i with all item embedding vectors that had interactions\n",
    "            # then move on(all j is done, next i) to next user, repeat the process.\n",
    "            P[i, :] = P[i, :] + lr * (e_ui*Q[j, :] - _lambda*P[i, :]) # updates user emb vector(P_i) using item emb vector Q_j\n",
    "            Q[j, :] = Q[j, :] + lr * (e_ui*P[i, :] - _lambda*Q[j, :]) # use updated user emb vector to update Q_j\n",
    "            \n",
    "    if n_step % 10 == 0:\n",
    "        print(f\"{n_step} : RMSE =  \", np.round(calc_rmse(P, Q, train_R), 4))\n",
    "        \n",
    "print(f\"Train RMSE =  \", np.round(calc_rmse(P, Q, train_R), 4))\n",
    "print(f\"Test RMSE =  \", np.round(calc_rmse(P, Q, test_R), 4))"
   ]
  },
  {
   "cell_type": "code",
   "execution_count": null,
   "id": "c812f7a7",
   "metadata": {},
   "outputs": [],
   "source": [
    "pred_R = np.dot(P, Q.T)"
   ]
  },
  {
   "cell_type": "code",
   "execution_count": null,
   "id": "f5824ffb",
   "metadata": {},
   "outputs": [],
   "source": [
    "item_list = [\"vacuum\", 'sweeper', 'laptop', 'mouse', 'keyboard']\n",
    "user_list = df['user'].unique().tolist()"
   ]
  },
  {
   "cell_type": "code",
   "execution_count": null,
   "id": "4f983965",
   "metadata": {},
   "outputs": [],
   "source": [
    "def preferenece_rec(user):\n",
    "    \"\"\"\n",
    "    Given user output item that user will prefer.\n",
    "    \n",
    "    parameters\n",
    "    ---------\n",
    "    user : int, user_id\n",
    "    \"\"\"\n",
    "    return item_list[np.argmax(pred_R[:, user])]"
   ]
  },
  {
   "cell_type": "code",
   "execution_count": null,
   "id": "2582de26",
   "metadata": {},
   "outputs": [],
   "source": [
    "for user in user_list:\n",
    "    rec_item = preferenece_rec(user)\n",
    "    print(f\"user_{user} will like = {rec_item}\")"
   ]
  }
 ],
 "metadata": {
  "kernelspec": {
   "display_name": "Python 3 (ipykernel)",
   "language": "python",
   "name": "python3"
  },
  "language_info": {
   "codemirror_mode": {
    "name": "ipython",
    "version": 3
   },
   "file_extension": ".py",
   "mimetype": "text/x-python",
   "name": "python",
   "nbconvert_exporter": "python",
   "pygments_lexer": "ipython3",
   "version": "3.7.11"
  },
  "toc": {
   "base_numbering": 1,
   "nav_menu": {},
   "number_sections": true,
   "sideBar": true,
   "skip_h1_title": false,
   "title_cell": "Table of Contents",
   "title_sidebar": "Contents",
   "toc_cell": false,
   "toc_position": {},
   "toc_section_display": true,
   "toc_window_display": false
  }
 },
 "nbformat": 4,
 "nbformat_minor": 5
}
