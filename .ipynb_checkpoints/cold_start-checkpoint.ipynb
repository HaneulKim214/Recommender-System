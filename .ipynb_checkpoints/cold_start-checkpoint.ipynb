{
 "cells": [
  {
   "cell_type": "code",
   "execution_count": null,
   "id": "aa07db28-15a8-45d6-b797-5143ebacf251",
   "metadata": {},
   "outputs": [],
   "source": [
    "import numpy as np\n",
    "import pandas as pd\n",
    "\n",
    "from sklearn import preprocessing\n",
    "from timeit import default_timer as timer\n",
    "\n",
    "from metrics import calc_rmse\n",
    "from models.utils import df_to_rating_matrixb\n",
    "from models.matrix_factorization import MatrixFactorization, train_test_split_rating_mat,\\\n",
    "    MatrixFactorization_rating_matrix_version\n",
    "from preprocessing.utils import optimize_dtypes, train_test_split_dataframe\n",
    "\n",
    "\n",
    "\n",
    "print(\"Welcome to Haneul's Recommendation engine\")\n",
    "rating_df = pd.read_parquet(\"datasets/ml-25m/ratings_sampled.parquet\").sample(10_000)\n",
    "# FIXME : TypeError: No matching signature found\n",
    "rating_df = optimize_dtypes(rating_df, verbose=False)\n",
    "train_df, test_df = train_test_split_dataframe(rating_df, test_ratio=0.3, method='random',\n",
    "                                               time_col=None, verbose=True)\n",
    "user_col_nm, item_col_nm, rating_col_nm = \"userId\", \"movieId\", \"rating\"\n",
    "\n",
    "emb_dim = 3\n",
    "epoch = 10\n",
    "lr = 0.01\n",
    "_lambda = 0.01\n",
    "\n",
    "n_users, n_items = train_df[[user_col_nm, item_col_nm]].nunique()\n",
    "MF_model = MatrixFactorization(emb_dim, lr, _lambda, n_users, n_items)\n",
    "MF_model.fit(train_df, user_col_nm, item_col_nm, rating_col_nm, epoch=epoch, verbose=True)\n",
    "\n",
    "print(\"====== prediction on trained dataset ======\")\n",
    "train_df['pred_rating'] = MF_model.predict(train_df)\n",
    "print(train_df.head())\n",
    "print(f\"RMSE = {round(calc_rmse(train_df['rating'], train_df['pred_rating']), 3)}\")"
   ]
  },
  {
   "cell_type": "markdown",
   "id": "60d1298a",
   "metadata": {},
   "source": [
    "print(\"hello world\")"
   ]
  },
  {
   "cell_type": "code",
   "execution_count": null,
   "id": "c9c8ed1e-8064-44a3-b4fb-2e694f8cfe75",
   "metadata": {},
   "outputs": [],
   "source": [
    "recc_df = MF_model.batch_reccomendation(test_df)"
   ]
  },
  {
   "cell_type": "code",
   "execution_count": null,
   "id": "94038d81-5e04-4419-b2b3-b5c22f3e37af",
   "metadata": {},
   "outputs": [],
   "source": [
    "recc_df.head()"
   ]
  },
  {
   "cell_type": "code",
   "execution_count": null,
   "id": "bd9070fd-a8ae-4b89-9607-201627a1958e",
   "metadata": {},
   "outputs": [],
   "source": [
    "userid = 115934\n",
    "recc_df.loc[recc_df['userId'] == userid]"
   ]
  },
  {
   "cell_type": "code",
   "execution_count": null,
   "id": "64c4a082-fbce-4ab7-aea6-32ac1f0874a6",
   "metadata": {},
   "outputs": [],
   "source": [
    "recc_df.loc[recc_df['relevant_score'].isna()].head()"
   ]
  },
  {
   "cell_type": "code",
   "execution_count": null,
   "id": "737d1f2f-2825-4cf0-a838-ba367a6a6c77",
   "metadata": {},
   "outputs": [],
   "source": [
    "recc_df.loc[~recc_df['relevant_score'].isna()].head()"
   ]
  },
  {
   "cell_type": "code",
   "execution_count": null,
   "id": "d43cf453-92fc-4ac8-b2db-ff3f7721efdb",
   "metadata": {},
   "outputs": [],
   "source": [
    "test_df['userId'].unique()"
   ]
  },
  {
   "cell_type": "code",
   "execution_count": null,
   "id": "430a94f3-d1f3-464d-83e5-c4837864494d",
   "metadata": {},
   "outputs": [],
   "source": [
    "# one by one\n",
    "users = test_df['userId'].unique()\n",
    "for userid in users:\n",
    "    try:\n",
    "        # warm-user\n",
    "        user_emb = MF_model.userid2idx[userid]\n",
    "        movieid = MF_model.get_topK(user_emb, topk=1)[MF_model.item_col]\n",
    "        print(f'recommend user={userid} -> movieID = {movieid}')\n",
    "        \n",
    "    except KeyError:\n",
    "        "
   ]
  },
  {
   "cell_type": "code",
   "execution_count": null,
   "id": "1b94c106-dd6a-4e49-8bc4-01190fa8e58e",
   "metadata": {},
   "outputs": [],
   "source": [
    "try: MF_model.userid2idx[userid]"
   ]
  },
  {
   "cell_type": "code",
   "execution_count": null,
   "id": "8a8405e9-e49d-4dc4-936d-11de8d6f0131",
   "metadata": {},
   "outputs": [],
   "source": [
    "MF_model.mp_df_sorted"
   ]
  },
  {
   "cell_type": "code",
   "execution_count": null,
   "id": "5d487610-b674-4187-abc1-0d2218b19d48",
   "metadata": {},
   "outputs": [],
   "source": []
  }
 ],
 "metadata": {
  "kernelspec": {
   "display_name": "Python 3 (ipykernel)",
   "language": "python",
   "name": "python3"
  },
  "language_info": {
   "codemirror_mode": {
    "name": "ipython",
    "version": 3
   },
   "file_extension": ".py",
   "mimetype": "text/x-python",
   "name": "python",
   "nbconvert_exporter": "python",
   "pygments_lexer": "ipython3",
   "version": "3.7.11"
  },
  "toc": {
   "base_numbering": 1,
   "nav_menu": {},
   "number_sections": true,
   "sideBar": true,
   "skip_h1_title": false,
   "title_cell": "Table of Contents",
   "title_sidebar": "Contents",
   "toc_cell": false,
   "toc_position": {},
   "toc_section_display": true,
   "toc_window_display": false
  }
 },
 "nbformat": 4,
 "nbformat_minor": 5
}
